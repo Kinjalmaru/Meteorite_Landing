{
 "cells": [
  {
   "cell_type": "code",
   "execution_count": null,
   "metadata": {},
   "outputs": [],
   "source": [
    "# Dependencies and Setup\n",
    "import pandas as pd\n",
    "\n",
    "# Files to load\n",
    "meteorite_landing = \"Data/meteorite-landings2.csv\"\n",
    "\n",
    "# Read files and store into Pandas data frames\n",
    "meteorite_landing = pd.read_csv(meteorite_landing)\n",
    "meteorite_landing\n",
    "# Narrow down the rows to include only fallen meteroties\n",
    "meteorite_fell = meteorite_landing.loc[\n",
    "    meteorite_landing[\"fall\"] == \"Fell\",:   \n",
    "]\n",
    "meteorite_fell\n",
    "meteorite_fell.to_csv('Data/meteorite_landing.csv')\n",
    "meteorite_fell.to_json('Data/meteorite_landing.json')\n",
    "meteorite_mass = meteorite_fell[[\"recclass\", \"mass\"]]\n",
    "meteorite_group = meteorite_mass.groupby([\"recclass\"])[\"mass\"].sum()\n",
    "meteorite_group = meteorite_group.reset_index()\n",
    "meteorite_group.to_json(\"Data/meteorite_mass.json\")\n"
   ]
  }
 ],
 "metadata": {
  "kernelspec": {
   "display_name": "Python 3",
   "language": "python",
   "name": "python3"
  },
  "language_info": {
   "codemirror_mode": {
    "name": "ipython",
    "version": 3
   },
   "file_extension": ".py",
   "mimetype": "text/x-python",
   "name": "python",
   "nbconvert_exporter": "python",
   "pygments_lexer": "ipython3",
   "version": "3.8.5"
  }
 },
 "nbformat": 4,
 "nbformat_minor": 4
}